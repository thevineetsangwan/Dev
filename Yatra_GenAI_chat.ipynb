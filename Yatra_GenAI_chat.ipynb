{
  "nbformat": 4,
  "nbformat_minor": 0,
  "metadata": {
    "colab": {
      "provenance": [],
      "include_colab_link": true
    },
    "kernelspec": {
      "name": "python3",
      "display_name": "Python 3"
    },
    "language_info": {
      "name": "python"
    }
  },
  "cells": [
    {
      "cell_type": "markdown",
      "metadata": {
        "id": "view-in-github",
        "colab_type": "text"
      },
      "source": [
        "<a href=\"https://colab.research.google.com/github/thevineetsangwan/Dev/blob/master/Yatra_GenAI_chat.ipynb\" target=\"_parent\"><img src=\"https://colab.research.google.com/assets/colab-badge.svg\" alt=\"Open In Colab\"/></a>"
      ]
    },
    {
      "cell_type": "code",
      "execution_count": null,
      "metadata": {
        "colab": {
          "base_uri": "https://localhost:8080/",
          "height": 782
        },
        "id": "k1QLwLYHSCWk",
        "outputId": "a42d3cb3-bd0e-457a-b9a8-9ed1b53fa293"
      },
      "outputs": [
        {
          "output_type": "stream",
          "name": "stdout",
          "text": [
            "Collecting google-cloud-aiplatform\n",
            "  Downloading google_cloud_aiplatform-1.28.1-py2.py3-none-any.whl (2.7 MB)\n",
            "\u001b[2K     \u001b[90m━━━━━━━━━━━━━━━━━━━━━━━━━━━━━━━━━━━━━━━━\u001b[0m \u001b[32m2.7/2.7 MB\u001b[0m \u001b[31m11.8 MB/s\u001b[0m eta \u001b[36m0:00:00\u001b[0m\n",
            "\u001b[?25hRequirement already satisfied: google-api-core[grpc]!=2.0.*,!=2.1.*,!=2.2.*,!=2.3.*,!=2.4.*,!=2.5.*,!=2.6.*,!=2.7.*,<3.0.0dev,>=1.32.0 in /usr/local/lib/python3.10/dist-packages (from google-cloud-aiplatform) (2.11.1)\n",
            "Requirement already satisfied: proto-plus<2.0.0dev,>=1.22.0 in /usr/local/lib/python3.10/dist-packages (from google-cloud-aiplatform) (1.22.3)\n",
            "Requirement already satisfied: protobuf!=3.20.0,!=3.20.1,!=4.21.0,!=4.21.1,!=4.21.2,!=4.21.3,!=4.21.4,!=4.21.5,<5.0.0dev,>=3.19.5 in /usr/local/lib/python3.10/dist-packages (from google-cloud-aiplatform) (3.20.3)\n",
            "Requirement already satisfied: packaging>=14.3 in /usr/local/lib/python3.10/dist-packages (from google-cloud-aiplatform) (23.1)\n",
            "Requirement already satisfied: google-cloud-storage<3.0.0dev,>=1.32.0 in /usr/local/lib/python3.10/dist-packages (from google-cloud-aiplatform) (2.8.0)\n",
            "Requirement already satisfied: google-cloud-bigquery<4.0.0dev,>=1.15.0 in /usr/local/lib/python3.10/dist-packages (from google-cloud-aiplatform) (3.10.0)\n",
            "Collecting google-cloud-resource-manager<3.0.0dev,>=1.3.3 (from google-cloud-aiplatform)\n",
            "  Downloading google_cloud_resource_manager-1.10.2-py2.py3-none-any.whl (321 kB)\n",
            "\u001b[2K     \u001b[90m━━━━━━━━━━━━━━━━━━━━━━━━━━━━━━━━━━━━━━\u001b[0m \u001b[32m321.3/321.3 kB\u001b[0m \u001b[31m16.7 MB/s\u001b[0m eta \u001b[36m0:00:00\u001b[0m\n",
            "\u001b[?25hCollecting shapely<2.0.0 (from google-cloud-aiplatform)\n",
            "  Downloading Shapely-1.8.5.post1-cp310-cp310-manylinux_2_12_x86_64.manylinux2010_x86_64.whl (2.0 MB)\n",
            "\u001b[2K     \u001b[90m━━━━━━━━━━━━━━━━━━━━━━━━━━━━━━━━━━━━━━━━\u001b[0m \u001b[32m2.0/2.0 MB\u001b[0m \u001b[31m24.1 MB/s\u001b[0m eta \u001b[36m0:00:00\u001b[0m\n",
            "\u001b[?25hRequirement already satisfied: googleapis-common-protos<2.0.dev0,>=1.56.2 in /usr/local/lib/python3.10/dist-packages (from google-api-core[grpc]!=2.0.*,!=2.1.*,!=2.2.*,!=2.3.*,!=2.4.*,!=2.5.*,!=2.6.*,!=2.7.*,<3.0.0dev,>=1.32.0->google-cloud-aiplatform) (1.59.1)\n",
            "Requirement already satisfied: google-auth<3.0.dev0,>=2.14.1 in /usr/local/lib/python3.10/dist-packages (from google-api-core[grpc]!=2.0.*,!=2.1.*,!=2.2.*,!=2.3.*,!=2.4.*,!=2.5.*,!=2.6.*,!=2.7.*,<3.0.0dev,>=1.32.0->google-cloud-aiplatform) (2.17.3)\n",
            "Requirement already satisfied: requests<3.0.0.dev0,>=2.18.0 in /usr/local/lib/python3.10/dist-packages (from google-api-core[grpc]!=2.0.*,!=2.1.*,!=2.2.*,!=2.3.*,!=2.4.*,!=2.5.*,!=2.6.*,!=2.7.*,<3.0.0dev,>=1.32.0->google-cloud-aiplatform) (2.27.1)\n",
            "Requirement already satisfied: grpcio<2.0dev,>=1.33.2 in /usr/local/lib/python3.10/dist-packages (from google-api-core[grpc]!=2.0.*,!=2.1.*,!=2.2.*,!=2.3.*,!=2.4.*,!=2.5.*,!=2.6.*,!=2.7.*,<3.0.0dev,>=1.32.0->google-cloud-aiplatform) (1.56.2)\n",
            "Requirement already satisfied: grpcio-status<2.0.dev0,>=1.33.2 in /usr/local/lib/python3.10/dist-packages (from google-api-core[grpc]!=2.0.*,!=2.1.*,!=2.2.*,!=2.3.*,!=2.4.*,!=2.5.*,!=2.6.*,!=2.7.*,<3.0.0dev,>=1.32.0->google-cloud-aiplatform) (1.48.2)\n",
            "Requirement already satisfied: google-cloud-core<3.0.0dev,>=1.6.0 in /usr/local/lib/python3.10/dist-packages (from google-cloud-bigquery<4.0.0dev,>=1.15.0->google-cloud-aiplatform) (2.3.3)\n",
            "Requirement already satisfied: google-resumable-media<3.0dev,>=0.6.0 in /usr/local/lib/python3.10/dist-packages (from google-cloud-bigquery<4.0.0dev,>=1.15.0->google-cloud-aiplatform) (2.5.0)\n",
            "Requirement already satisfied: python-dateutil<3.0dev,>=2.7.2 in /usr/local/lib/python3.10/dist-packages (from google-cloud-bigquery<4.0.0dev,>=1.15.0->google-cloud-aiplatform) (2.8.2)\n",
            "Requirement already satisfied: grpc-google-iam-v1<1.0.0dev,>=0.12.4 in /usr/local/lib/python3.10/dist-packages (from google-cloud-resource-manager<3.0.0dev,>=1.3.3->google-cloud-aiplatform) (0.12.6)\n",
            "Requirement already satisfied: cachetools<6.0,>=2.0.0 in /usr/local/lib/python3.10/dist-packages (from google-auth<3.0.dev0,>=2.14.1->google-api-core[grpc]!=2.0.*,!=2.1.*,!=2.2.*,!=2.3.*,!=2.4.*,!=2.5.*,!=2.6.*,!=2.7.*,<3.0.0dev,>=1.32.0->google-cloud-aiplatform) (5.3.1)\n",
            "Requirement already satisfied: pyasn1-modules>=0.2.1 in /usr/local/lib/python3.10/dist-packages (from google-auth<3.0.dev0,>=2.14.1->google-api-core[grpc]!=2.0.*,!=2.1.*,!=2.2.*,!=2.3.*,!=2.4.*,!=2.5.*,!=2.6.*,!=2.7.*,<3.0.0dev,>=1.32.0->google-cloud-aiplatform) (0.3.0)\n",
            "Requirement already satisfied: six>=1.9.0 in /usr/local/lib/python3.10/dist-packages (from google-auth<3.0.dev0,>=2.14.1->google-api-core[grpc]!=2.0.*,!=2.1.*,!=2.2.*,!=2.3.*,!=2.4.*,!=2.5.*,!=2.6.*,!=2.7.*,<3.0.0dev,>=1.32.0->google-cloud-aiplatform) (1.16.0)\n",
            "Requirement already satisfied: rsa<5,>=3.1.4 in /usr/local/lib/python3.10/dist-packages (from google-auth<3.0.dev0,>=2.14.1->google-api-core[grpc]!=2.0.*,!=2.1.*,!=2.2.*,!=2.3.*,!=2.4.*,!=2.5.*,!=2.6.*,!=2.7.*,<3.0.0dev,>=1.32.0->google-cloud-aiplatform) (4.9)\n",
            "Requirement already satisfied: google-crc32c<2.0dev,>=1.0 in /usr/local/lib/python3.10/dist-packages (from google-resumable-media<3.0dev,>=0.6.0->google-cloud-bigquery<4.0.0dev,>=1.15.0->google-cloud-aiplatform) (1.5.0)\n",
            "Requirement already satisfied: urllib3<1.27,>=1.21.1 in /usr/local/lib/python3.10/dist-packages (from requests<3.0.0.dev0,>=2.18.0->google-api-core[grpc]!=2.0.*,!=2.1.*,!=2.2.*,!=2.3.*,!=2.4.*,!=2.5.*,!=2.6.*,!=2.7.*,<3.0.0dev,>=1.32.0->google-cloud-aiplatform) (1.26.16)\n",
            "Requirement already satisfied: certifi>=2017.4.17 in /usr/local/lib/python3.10/dist-packages (from requests<3.0.0.dev0,>=2.18.0->google-api-core[grpc]!=2.0.*,!=2.1.*,!=2.2.*,!=2.3.*,!=2.4.*,!=2.5.*,!=2.6.*,!=2.7.*,<3.0.0dev,>=1.32.0->google-cloud-aiplatform) (2023.7.22)\n",
            "Requirement already satisfied: charset-normalizer~=2.0.0 in /usr/local/lib/python3.10/dist-packages (from requests<3.0.0.dev0,>=2.18.0->google-api-core[grpc]!=2.0.*,!=2.1.*,!=2.2.*,!=2.3.*,!=2.4.*,!=2.5.*,!=2.6.*,!=2.7.*,<3.0.0dev,>=1.32.0->google-cloud-aiplatform) (2.0.12)\n",
            "Requirement already satisfied: idna<4,>=2.5 in /usr/local/lib/python3.10/dist-packages (from requests<3.0.0.dev0,>=2.18.0->google-api-core[grpc]!=2.0.*,!=2.1.*,!=2.2.*,!=2.3.*,!=2.4.*,!=2.5.*,!=2.6.*,!=2.7.*,<3.0.0dev,>=1.32.0->google-cloud-aiplatform) (3.4)\n",
            "Requirement already satisfied: pyasn1<0.6.0,>=0.4.6 in /usr/local/lib/python3.10/dist-packages (from pyasn1-modules>=0.2.1->google-auth<3.0.dev0,>=2.14.1->google-api-core[grpc]!=2.0.*,!=2.1.*,!=2.2.*,!=2.3.*,!=2.4.*,!=2.5.*,!=2.6.*,!=2.7.*,<3.0.0dev,>=1.32.0->google-cloud-aiplatform) (0.5.0)\n",
            "Installing collected packages: shapely, google-cloud-resource-manager, google-cloud-aiplatform\n",
            "\u001b[33m  WARNING: The script tb-gcp-uploader is installed in '/root/.local/bin' which is not on PATH.\n",
            "  Consider adding this directory to PATH or, if you prefer to suppress this warning, use --no-warn-script-location.\u001b[0m\u001b[33m\n",
            "\u001b[0mSuccessfully installed google-cloud-aiplatform-1.28.1 google-cloud-resource-manager-1.10.2 shapely-1.8.5.post1\n"
          ]
        },
        {
          "output_type": "display_data",
          "data": {
            "application/vnd.colab-display-data+json": {
              "pip_warning": {
                "packages": [
                  "google"
                ]
              }
            }
          },
          "metadata": {}
        }
      ],
      "source": [
        "! pip install google-cloud-aiplatform --upgrade --user"
      ]
    },
    {
      "cell_type": "code",
      "source": [
        "! pip show google-cloud-aiplatform"
      ],
      "metadata": {
        "colab": {
          "base_uri": "https://localhost:8080/"
        },
        "id": "pYCZ4RwSSLXx",
        "outputId": "22e76d8a-9d06-4bfc-a9a2-442aab802af8"
      },
      "execution_count": null,
      "outputs": [
        {
          "output_type": "stream",
          "name": "stdout",
          "text": [
            "Name: google-cloud-aiplatform\n",
            "Version: 1.28.1\n",
            "Summary: Vertex AI API client library\n",
            "Home-page: https://github.com/googleapis/python-aiplatform\n",
            "Author: Google LLC\n",
            "Author-email: googleapis-packages@google.com\n",
            "License: Apache 2.0\n",
            "Location: /root/.local/lib/python3.10/site-packages\n",
            "Requires: google-api-core, google-cloud-bigquery, google-cloud-resource-manager, google-cloud-storage, packaging, proto-plus, protobuf, shapely\n",
            "Required-by: \n"
          ]
        }
      ]
    },
    {
      "cell_type": "code",
      "source": [
        "from google.colab import auth as google_auth\n",
        "google_auth.authenticate_user()"
      ],
      "metadata": {
        "id": "JT3n4OdrV0vN"
      },
      "execution_count": null,
      "outputs": []
    },
    {
      "cell_type": "code",
      "source": [
        "import vertexai\n",
        "from vertexai.preview.language_models import ChatModel, InputOutputTextPair\n"
      ],
      "metadata": {
        "id": "TMU4WvSrV3NN"
      },
      "execution_count": null,
      "outputs": []
    },
    {
      "cell_type": "code",
      "source": [
        "vertexai.init(project=\"mlconsole-poc\", location=\"us-central1\")\n",
        "chat_model = ChatModel.from_pretrained(\"chat-bison@001\")\n",
        "parameters = {\n",
        "    \"temperature\": 0.2,\n",
        "    \"max_output_tokens\": 1024,\n",
        "    \"top_p\": 1,\n",
        "    \"top_k\": 40\n",
        "}"
      ],
      "metadata": {
        "id": "VyquXjxyWAqK"
      },
      "execution_count": null,
      "outputs": []
    },
    {
      "cell_type": "code",
      "source": [
        "def get_prompt():\n",
        "  prompt = \"\"\"Following is the data of a company\\'s employees travel history some employees have booked tickets for round way trip, while some have booked for one-way trip :\n",
        "  {\n",
        "      {\n",
        "    \\\"Corporate\\\": \\\"BCG\\\",\n",
        "    \\\"Employee\\\": \\\"Ravi Shankar\\\",\n",
        "    \\\"From\\\": \\\"DEL\\\",\n",
        "    \\\"To\\\": \\\"BOM\\\",\n",
        "    \\\"Departure Date\\\": \\\"July 1, 2023\\\",\n",
        "    \\\"Return Date\\\": \\\"July 3, 2023\\\",\n",
        "    \\\"Flight Outbound\\\": \\\"6E5112\\\",\n",
        "    \\\"Flight Inbound\\\": \\\"6E2139\\\"\n",
        "  }\n",
        "  {\n",
        "    \\\"Corporate\\\": \\\"BCG\\\",\n",
        "    \\\"Employee\\\": \\\"Shakti Goel\\\",\n",
        "    \\\"From\\\": \\\"DEL\\\",\n",
        "    \\\"To\\\": \\\"BLR\\\",\n",
        "    \\\"Departure Date\\\": \\\"July 4, 2023\\\",\n",
        "    \\\"Flight Outbound\\\": \\\"6E308\\\"\n",
        "  }\n",
        "  {\n",
        "    \\\"Corporate\\\": \\\"BCG\\\",\n",
        "    \\\"Employee\\\": \\\"Ravi Shankar\\\",\n",
        "    \\\"From\\\": \\\"BOM\\\",\n",
        "    \\\"To\\\": \\\"MAA\\\",\n",
        "    \\\"Departure Date\\\": \\\"June 5, 2023\\\",\n",
        "    \\\"Flight Inbound\\\": \\\"UK839\\\"\n",
        "  }\n",
        "  {\n",
        "    \\\"Corporate\\\": \\\"BCG\\\",\n",
        "    \\\"Employee\\\": \\\"Ravi Shankar\\\",\n",
        "    \\\"From\\\": \\\"BOM\\\",\n",
        "    \\\"To\\\": \\\"MAA\\\",\n",
        "    \\\"Departure Date\\\": \\\"May 15. 2022\\\",\n",
        "    \\\"Return Date\\\": \\\"June 5, 2023\\\",\n",
        "    \\\"Flight Outbound\\\": \\\"AI429\\\",\n",
        "    \\\"Flight Inbound\\\": \\\"6E6276\\\"\n",
        "  }\n",
        "  }\n",
        "\n",
        "  system : You are an assistant who will help users with their queries regarding flight details or ticket booking.\n",
        "  If user want to take same flight as their colleague then remember the flight number and book the that flight for specified date.\n",
        "  Answer according to what user asks, user can ask about the following :\n",
        "  1. User can ask you to book a flight, user can specify departure date in query or user can tell to book ticket for date after few days from today. Today\\'s date is 25th July 2023 and today date is same as now or current date.\n",
        "\n",
        "  Here are few examples:\n",
        "  user : book a flight for 28th July.\n",
        "  departure date : 28th July 2023\n",
        "\n",
        "  user : book flight for 2 weeks from now. (1 week is same as 7 days)\n",
        "  departure date : 8th August 2023\n",
        "\n",
        "  user : book flight for 3 weeks from now.\n",
        "  departure date : 15th August 2023\n",
        "\n",
        "  user : book flight for 3 weeks from tomorrow.\n",
        "  departure date : 16th August 2023\n",
        "\n",
        "  user : book a flight for 8 days from today\n",
        "  departure date : 2nd August 2023\n",
        "\n",
        "  Answer this query in JSON format, JSON should contain the entities Employee name, Departure station, travel date, flight number.\n",
        "\n",
        "  2. User can ask for the details for a specific flight or user can ask for details for more than one flight so you have to answer this in text format.\n",
        "  \"\"\"\n",
        "  return prompt\n",
        "\n",
        "def get_examples():\n",
        "  examples=[\n",
        "          InputOutputTextPair(\n",
        "              input_text=\"\"\"My name is Ravi Shankar.  Make a booking for 2 weeks from now from Mumbai to Chennai, I want to take the flights that I took on June 5, 2023.\"\"\",\n",
        "              output_text=\"\"\"{\n",
        "    \\\"Corporate\\\": \\\"BCG\\\",\n",
        "    \\\"Employee\\\": \\\"Ravi Shankar\\\",\n",
        "    \\\"From\\\": \\\"BOM\\\",\n",
        "    \\\"To\\\": \\\"MAA\\\",\n",
        "    \\\"Departure Date\\\": \\\"August 8, 2023\\\",\n",
        "    \\\"Flight Outbound\\\": \\\"UK839\\\"\n",
        "  }\n",
        "  \"\"\"\n",
        "          ),\n",
        "          InputOutputTextPair(\n",
        "              input_text=\"\"\"My name is Ravi Shankar.  Make a booking for 5 days from now from Mumbai to Chennai, I want to take the flights that I took on June 5, 2023.\"\"\",\n",
        "              output_text=\"\"\"{\n",
        "    \\\"Corporate\\\": \\\"BCG\\\",\n",
        "    \\\"Employee\\\": \\\"Ravi Shankar\\\",\n",
        "    \\\"From\\\": \\\"BOM\\\",\n",
        "    \\\"To\\\": \\\"MAA\\\",\n",
        "    \\\"Departure Date\\\": \\\"July 29, 2023\\\",\n",
        "    \\\"Flight Outbound\\\": \\\"UK839\\\"\n",
        "  }\"\"\"\n",
        "  )\n",
        "  ]\n",
        "  return examples"
      ],
      "metadata": {
        "id": "hGN6j151WQGE"
      },
      "execution_count": null,
      "outputs": []
    },
    {
      "cell_type": "code",
      "source": [
        "import requests\n",
        "\n",
        "def flights_api(data):\n",
        "  url = \"https://yatra-flight-api-njsl6nofca-uc.a.run.app\"\n",
        "  r = requests.post(url=url, json=data)\n",
        "  print(r.json())"
      ],
      "metadata": {
        "id": "JKG6rWiMu88c"
      },
      "execution_count": null,
      "outputs": []
    },
    {
      "cell_type": "code",
      "source": [
        "def get_prediction(query, book):\n",
        "  prompt = get_prompt()\n",
        "  examples = get_examples()\n",
        "\n",
        "  chat = chat_model.start_chat(\n",
        "    context=prompt,\n",
        "    examples = examples\n",
        "  )\n",
        "\n",
        "  # This is an Custom API Call to get the price of the flight being discussed\n",
        "  response = chat.send_message(query, **parameters)\n",
        "  if book == True:\n",
        "    data = eval(f\"{response.text}\")\n",
        "    flights_api(data)\n",
        "  elif book == False:\n",
        "    print(f\"{response.text}\")"
      ],
      "metadata": {
        "id": "QRnT1Iy8ipco"
      },
      "execution_count": null,
      "outputs": []
    },
    {
      "cell_type": "code",
      "source": [
        "get_prediction(\"My name is Ravi Shankar.  Make a booking for Bangalore from Delhi two weeks from now.  I want to take the flights that Shakti took.\", True)"
      ],
      "metadata": {
        "colab": {
          "base_uri": "https://localhost:8080/"
        },
        "id": "6Yu8aGVEkUM1",
        "outputId": "9ca563c2-c3a6-4066-f440-17082fd887ca"
      },
      "execution_count": null,
      "outputs": [
        {
          "output_type": "stream",
          "name": "stdout",
          "text": [
            "{'Corporate': 'BCG', 'Departure Date': 'August 8, 2023', 'Employee': 'Ravi Shankar', 'Flight Outbound': '6E308', 'From': 'DEL', 'To': 'BLR', 'price': 5236}\n"
          ]
        }
      ]
    },
    {
      "cell_type": "code",
      "source": [
        "get_prediction(\"My name is Ravi Shankar. Book the same flight I took last time to go to Chennai from Bombay.  Book it for 8 days from now.\", True)"
      ],
      "metadata": {
        "colab": {
          "base_uri": "https://localhost:8080/"
        },
        "id": "zS6OJfx4kd2X",
        "outputId": "138f2e09-e12b-4a0e-aed3-736502db2e3c"
      },
      "execution_count": null,
      "outputs": [
        {
          "output_type": "stream",
          "name": "stdout",
          "text": [
            "{'Corporate': 'BCG', 'Departure Date': 'August 2, 2023', 'Employee': 'Ravi Shankar', 'Flight Outbound': 'UK839', 'From': 'BOM', 'To': 'MAA', 'price': 4000}\n"
          ]
        }
      ]
    },
    {
      "cell_type": "code",
      "source": [
        "get_prediction(\"I am Ravi Shankar.  What was the flight that my colleague Shakti took last?\", False)"
      ],
      "metadata": {
        "colab": {
          "base_uri": "https://localhost:8080/"
        },
        "id": "ZaZ7sLr5klHZ",
        "outputId": "50aed36b-a2f1-442b-a6bf-8358b74a4ae6"
      },
      "execution_count": null,
      "outputs": [
        {
          "output_type": "stream",
          "name": "stdout",
          "text": [
            "On July 4, 2023, Shakti Goel took flight 6E308 from Delhi to Bangalore.\n"
          ]
        }
      ]
    },
    {
      "cell_type": "code",
      "source": [
        "get_prediction(\"List all the round trip flights that Ravi Shankar took in last 4 months.\", False)"
      ],
      "metadata": {
        "colab": {
          "base_uri": "https://localhost:8080/"
        },
        "id": "WvdHVnWgkuQ9",
        "outputId": "4484771b-182b-4547-a8fe-1b8db9855b74"
      },
      "execution_count": null,
      "outputs": [
        {
          "output_type": "stream",
          "name": "stdout",
          "text": [
            "Ravi Shankar took following round trip flights in last 4 months\n",
            "\n",
            "1. May 15. 2022, BOM to MAA, AI429, 6E6276\n",
            "2. July 1, 2023, DEL to BOM, 6E5112, 6E2139\n"
          ]
        }
      ]
    },
    {
      "cell_type": "code",
      "source": [
        "get_prediction(\"tell me about the second flight\", False)"
      ],
      "metadata": {
        "colab": {
          "base_uri": "https://localhost:8080/"
        },
        "id": "B8Y5dPJ6k30l",
        "outputId": "ce405bd7-f8b0-4488-c6e8-3bea463fd9ad"
      },
      "execution_count": null,
      "outputs": [
        {
          "output_type": "stream",
          "name": "stdout",
          "text": [
            "Ravi Shankar's flight from Mumbai to Chennai on June 5, 2023 had flight number UK839.\n"
          ]
        }
      ]
    },
    {
      "cell_type": "code",
      "source": [
        "get_prediction(\"tell me about the first flight\", False)"
      ],
      "metadata": {
        "id": "snC1aKPShqAh",
        "colab": {
          "base_uri": "https://localhost:8080/"
        },
        "outputId": "38bc6e0b-9f67-4d46-ef09-205bc5214e3f"
      },
      "execution_count": null,
      "outputs": [
        {
          "output_type": "stream",
          "name": "stdout",
          "text": [
            "The first flight is from Delhi to Mumbai on July 1, 2023. The employee name is Ravi Shankar and the flight number is 6E5112.\n"
          ]
        }
      ]
    },
    {
      "cell_type": "code",
      "source": [
        "get_prediction(\"list all the travellers who have travelled this year\", False)"
      ],
      "metadata": {
        "colab": {
          "base_uri": "https://localhost:8080/"
        },
        "id": "1j-bqbwD_-Yq",
        "outputId": "f9b9dfba-26a8-4e6d-fbef-3a2e20fca38d"
      },
      "execution_count": null,
      "outputs": [
        {
          "output_type": "stream",
          "name": "stdout",
          "text": [
            "The following employees have travelled this year:\n",
            "Shakti Goel\n",
            "Ravi Shankar\n"
          ]
        }
      ]
    },
    {
      "cell_type": "code",
      "source": [
        "get_prediction(\"I am Nitin, book me same flight which Ravi Shankar took on 1st July\", True)"
      ],
      "metadata": {
        "colab": {
          "base_uri": "https://localhost:8080/"
        },
        "id": "ECmZQx4lAHvV",
        "outputId": "beac039f-a1ce-440a-a40c-95c289b887e3"
      },
      "execution_count": null,
      "outputs": [
        {
          "output_type": "stream",
          "name": "stdout",
          "text": [
            "{'Corporate': 'BCG', 'Departure Date': 'July 1, 2023', 'Employee': 'Nitin', 'Flight Outbound': '6E5112', 'From': 'DEL', 'To': 'BOM', 'price': 5112}\n"
          ]
        }
      ]
    },
    {
      "cell_type": "code",
      "source": [],
      "metadata": {
        "id": "jTGa4PIFAY4w"
      },
      "execution_count": null,
      "outputs": []
    }
  ]
}